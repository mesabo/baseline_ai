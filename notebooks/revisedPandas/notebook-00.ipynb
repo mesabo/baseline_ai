{
 "cells": [
  {
   "cell_type": "markdown",
   "metadata": {},
   "source": [
    "# Revision pandas"
   ]
  },
  {
   "cell_type": "code",
   "execution_count": 35,
   "metadata": {},
   "outputs": [],
   "source": [
    "import pandas as pd\n",
    "import numpy as np"
   ]
  },
  {
   "cell_type": "markdown",
   "metadata": {},
   "source": [
    "### création d'un dataframe"
   ]
  },
  {
   "cell_type": "code",
   "execution_count": 62,
   "metadata": {},
   "outputs": [
    {
     "name": "stdout",
     "output_type": "stream",
     "text": [
      "Voici mon dataframe créé à la main : \n",
      "       Nom  Classe  anEtude\n",
      "0   Ncho  SRIT2B        5\n",
      "1   Boni  M2SIGL       10\n",
      "2  Marie   SIGL1       21\n",
      "\n",
      "\n",
      "NB : Chaque colonne de df_first est un dataframe Series.\n",
      "\n",
      "Trouves le type de chaque colonne de df_first ainsi que le type de df_first lui-même : \n",
      "Nom        object\n",
      "Classe     object\n",
      "anEtude     int64\n",
      "dtype: object\n"
     ]
    }
   ],
   "source": [
    "df_first = pd.DataFrame(\n",
    "    {\n",
    "    \"Nom\" : [\"Ncho\", \"Boni\" , \"Marie\"],\n",
    "    \"Classe\" : [ \"SRIT2B\", \"M2SIGL\",    \"SIGL1\"],\n",
    "    \"anEtude\" : [5 ,10 , 21]\n",
    "}\n",
    ")\n",
    "print(f\"Voici mon dataframe créé à la main : \\n  {df_first}\")\n",
    "print(\"\\n\")\n",
    "print(f\"NB : Chaque colonne de df_first est un dataframe Series.\")\n",
    "print(f\"\\nTrouves le type de chaque colonne de df_first ainsi que le type de df_first lui-même : \\n{df_first.dtypes}\")"
   ]
  },
  {
   "cell_type": "code",
   "execution_count": 17,
   "metadata": {},
   "outputs": [
    {
     "name": "stdout",
     "output_type": "stream",
     "text": [
      "Voici ce que j'obtiens (un dataframe Series) en sélectionnant la colonne anEtude de mon dataframe df_first : \n",
      " 0     5\n",
      "1    10\n",
      "2    21\n",
      "Name: anEtude, dtype: int64\n"
     ]
    }
   ],
   "source": [
    "serie_anEtude = df_first['anEtude']\n",
    "print(f\"Voici ce que j'obtiens (un dataframe Series) en sélectionnant la colonne anEtude de mon dataframe df_first : \\n {serie_anEtude}\")"
   ]
  },
  {
   "cell_type": "code",
   "execution_count": 18,
   "metadata": {},
   "outputs": [
    {
     "name": "stdout",
     "output_type": "stream",
     "text": [
      "Je viens de créer un dataframe Series avec pandas.Series : \n",
      " 0    25\n",
      "1    27\n",
      "2    28\n",
      "Name: Age, dtype: int64\n"
     ]
    }
   ],
   "source": [
    "df_first_age = pd.Series(\n",
    "    [25, 27, 28], name = \"Age\"\n",
    ")\n",
    "print(f\"Je viens de créer un dataframe Series avec pandas.Series : \\n {df_first_age}\")"
   ]
  },
  {
   "cell_type": "markdown",
   "metadata": {},
   "source": [
    "## Faire quelque chose avec un dataframe series"
   ]
  },
  {
   "cell_type": "code",
   "execution_count": 20,
   "metadata": {},
   "outputs": [
    {
     "name": "stdout",
     "output_type": "stream",
     "text": [
      "28\n",
      "21\n"
     ]
    }
   ],
   "source": [
    "print(f\"{df_first_age.max()}\")\n",
    "print(f\"{serie_anEtude.max()}\")"
   ]
  },
  {
   "cell_type": "markdown",
   "metadata": {},
   "source": [
    "## Faire quelque chose avec un dataframe"
   ]
  },
  {
   "cell_type": "code",
   "execution_count": 25,
   "metadata": {},
   "outputs": [
    {
     "name": "stdout",
     "output_type": "stream",
     "text": [
      "Utilisons la fonction describe() pour une description mathématique des colonnes numérique du dataframe \n",
      "          anEtude\n",
      "count   3.000000\n",
      "mean   12.000000\n",
      "std     8.185353\n",
      "min     5.000000\n",
      "25%     7.500000\n",
      "50%    10.000000\n",
      "75%    15.500000\n",
      "max    21.000000\n",
      "\n",
      "\n",
      "Utilisons la fonction describe(include = all) pour une description mathématique de toute les colonnes numérique du dataframe \n",
      "          Nom  Classe    anEtude\n",
      "count      3       3   3.000000\n",
      "unique     3       3        NaN\n",
      "top     Ncho  SRIT2B        NaN\n",
      "freq       1       1        NaN\n",
      "mean     NaN     NaN  12.000000\n",
      "std      NaN     NaN   8.185353\n",
      "min      NaN     NaN   5.000000\n",
      "25%      NaN     NaN   7.500000\n",
      "50%      NaN     NaN  10.000000\n",
      "75%      NaN     NaN  15.500000\n",
      "max      NaN     NaN  21.000000\n",
      "\n",
      "\n",
      "<class 'pandas.core.frame.DataFrame'>\n",
      "RangeIndex: 3 entries, 0 to 2\n",
      "Data columns (total 3 columns):\n",
      " #   Column   Non-Null Count  Dtype \n",
      "---  ------   --------------  ----- \n",
      " 0   Nom      3 non-null      object\n",
      " 1   Classe   3 non-null      object\n",
      " 2   anEtude  3 non-null      int64 \n",
      "dtypes: int64(1), object(2)\n",
      "memory usage: 204.0+ bytes\n",
      "Utilisons la fonction info() pour une description globale (Types des colonnes, valeurs non nulles, et mémoire utilisée.) \n",
      " None\n"
     ]
    }
   ],
   "source": [
    "print(f\"Utilisons la fonction describe() pour une description mathématique des colonnes numérique du dataframe \\n {df_first.describe()}\")\n",
    "print(\"\\n\")\n",
    "print(f\"Utilisons la fonction describe(include = all) pour une description mathématique de toute les colonnes numérique du dataframe \\n {df_first.describe(include = 'all')}\")\n",
    "print(\"\\n\")\n",
    "print(f\"Utilisons la fonction info() pour une description globale (Types des colonnes, valeurs non nulles, et mémoire utilisée.) \\n {df_first.info()}\")"
   ]
  },
  {
   "cell_type": "markdown",
   "metadata": {},
   "source": [
    "## Création d'un dataframe avec données d'un tableau numpy, index, titre de colonne. "
   ]
  },
  {
   "cell_type": "code",
   "execution_count": 42,
   "metadata": {},
   "outputs": [
    {
     "name": "stdout",
     "output_type": "stream",
     "text": [
      "Voici ce qui nous servira d'index : \n",
      " DatetimeIndex(['2023-05-01', '2023-05-02', '2023-05-03', '2023-05-04',\n",
      "               '2023-05-05', '2023-05-06'],\n",
      "              dtype='datetime64[ns]', freq='D')\n",
      "\n",
      "\n",
      "Voici les titres de mes colonnes : \n",
      " 0    A\n",
      "1    B\n",
      "2    C\n",
      "3    D\n",
      "dtype: object\n",
      "\n",
      "\n",
      "Je crée maintenant un tableau numpy de 6 ligne et 4 colonne. Les valeurs de ce tableau sont aléatoires : \n",
      " [[0.10469197 0.77060478 0.96596189 0.33333229]\n",
      " [0.47649456 0.31274525 0.4627996  0.08847427]\n",
      " [0.21683361 0.25163129 0.78285443 0.97786024]\n",
      " [0.3576007  0.21090961 0.62079499 0.72662667]\n",
      " [0.17512354 0.80566363 0.19159495 0.63143419]\n",
      " [0.80666361 0.85659649 0.19107867 0.02340033]]\n",
      "\n",
      "\n",
      "\n",
      "\n",
      "le dataframe sera créé maintenant. Le voilà : \n",
      "                    A         B         C         D\n",
      "2023-05-01  0.104692  0.770605  0.965962  0.333332\n",
      "2023-05-02  0.476495  0.312745  0.462800  0.088474\n",
      "2023-05-03  0.216834  0.251631  0.782854  0.977860\n",
      "2023-05-04  0.357601  0.210910  0.620795  0.726627\n",
      "2023-05-05  0.175124  0.805664  0.191595  0.631434\n",
      "2023-05-06  0.806664  0.856596  0.191079  0.023400\n"
     ]
    }
   ],
   "source": [
    "my_index = pd.date_range(\"20230501\", periods = 6)\n",
    "print(f\"Voici ce qui nous servira d'index : \\n {my_index}\")\n",
    "print(\"\\n\")\n",
    "my_col_title = pd.Series(list(\"ABCD\"))\n",
    "print(f\"Voici les titres de mes colonnes : \\n {my_col_title}\")\n",
    "print(\"\\n\")\n",
    "data_np = np.random.random((6, 4))\n",
    "print(f\"Je crée maintenant un tableau numpy de 6 ligne et 4 colonne. Les valeurs de ce tableau sont aléatoires : \\n {data_np}\")\n",
    "print(\"\\n\")\n",
    "print(\"\\n\")\n",
    "print(f\"le dataframe sera créé maintenant. Le voilà : \\n {pd.DataFrame(data_np, index = my_index, columns = my_col_title)}\")"
   ]
  },
  {
   "cell_type": "markdown",
   "metadata": {},
   "source": [
    "## Autre manière de créer un dataframe : par un dictionnaire d'objet"
   ]
  },
  {
   "cell_type": "code",
   "execution_count": 65,
   "metadata": {},
   "outputs": [
    {
     "name": "stdout",
     "output_type": "stream",
     "text": [
      "     A          B    C  D       E    F\n",
      "0  1.0 2013-01-02  1.0  3   testA  foo\n",
      "1  1.0 2013-01-02  1.0  3  trainA  foo\n",
      "2  1.0 2013-01-02  1.0  3   testA  foo\n",
      "3  1.0 2013-01-02  1.0  3  trainB  foo\n",
      "\n",
      " Utilisons le dtypes : \n",
      "A          float64\n",
      "B    datetime64[s]\n",
      "C          float32\n",
      "D            int32\n",
      "E         category\n",
      "F           object\n",
      "dtype: object\n"
     ]
    }
   ],
   "source": [
    "df_by_dict_objet = pd.DataFrame({\n",
    "        \"A\": 1.0,\n",
    "        \"B\": pd.Timestamp(\"20130102\"),\n",
    "        \"C\": pd.Series(1, index=list(range(4)), dtype=\"float32\"),\n",
    "        \"D\": np.array([3] * 4, dtype=\"int32\"),\n",
    "        \"E\": pd.Categorical([\"testA\", \"trainA\", \"testA\", \"trainB\"]),\n",
    "        \"F\": \"foo\",\n",
    "\n",
    "})\n",
    "print(df_by_dict_objet)\n",
    "\n",
    "print(f\"\\n Utilisons le dtypes : \\n{df_by_dict_objet.dtypes}\")"
   ]
  },
  {
   "cell_type": "markdown",
   "metadata": {},
   "source": [
    "## Affichage"
   ]
  },
  {
   "cell_type": "markdown",
   "metadata": {},
   "source": [
    "#### Afficher les premiers et les derniers éléments, les index, les colonnes, la transposé"
   ]
  },
  {
   "cell_type": "code",
   "execution_count": null,
   "metadata": {},
   "outputs": [
    {
     "name": "stdout",
     "output_type": "stream",
     "text": [
      " Par défaut, df.head() affiche les 5 premiers éléments, ici nous passons 2 en paramètre pour afficher les 2 premiers : \n",
      "      A          B    C  D       E    F\n",
      "0  1.0 2013-01-02  1.0  3   testA  foo\n",
      "1  1.0 2013-01-02  1.0  3  trainA  foo\n",
      "\n",
      "\n",
      " Par défaut, df.tail() affiche les 5 derniers éléments, ici nous passons 2 en paramètre pour afficher les 2 derniers : \n",
      "      A          B    C  D       E    F\n",
      "0  1.0 2013-01-02  1.0  3   testA  foo\n",
      "1  1.0 2013-01-02  1.0  3  trainA  foo\n",
      "\n",
      "\n",
      "les index du dataframe sont : \n",
      " Index([0, 1, 2, 3], dtype='int64')\n",
      "\n",
      "\n",
      "les colonnes du dataframe sont : \n",
      " Index(['A', 'B', 'C', 'D', 'E', 'F'], dtype='object')\n",
      "\n",
      "\n",
      "les index du dataframe sont : \n",
      " Index([0, 1, 2, 3], dtype='int64')\n",
      "\n",
      "\n",
      "les index du dataframe sont : \n",
      " Index([0, 1, 2, 3], dtype='int64')\n",
      "\n",
      "\n",
      "Donne moi la transposé de ton DataFrma : \n",
      "                      0                    1                    2  \\\n",
      "A                  1.0                  1.0                  1.0   \n",
      "B  2013-01-02 00:00:00  2013-01-02 00:00:00  2013-01-02 00:00:00   \n",
      "C                  1.0                  1.0                  1.0   \n",
      "D                    3                    3                    3   \n",
      "E                testA               trainA                testB   \n",
      "F                  foo                  foo                  foo   \n",
      "\n",
      "                     3  \n",
      "A                  1.0  \n",
      "B  2013-01-02 00:00:00  \n",
      "C                  1.0  \n",
      "D                    3  \n",
      "E               trainB  \n",
      "F                  foo  \n"
     ]
    }
   ],
   "source": [
    "df_by_dict_objet = pd.DataFrame({\n",
    "        \"A\": 1.0,\n",
    "        \"B\": pd.Timestamp(\"20130102\"),\n",
    "        \"C\": pd.Series(1, index=list(range(4)), dtype=\"float32\"),\n",
    "        \"D\": np.array([3] * 4, dtype=\"int32\"),\n",
    "        \"E\": pd.Categorical([\"testA\", \"trainA\", \"testB\", \"trainB\"]),\n",
    "        \"F\": \"foo\",\n",
    "\n",
    "})\n",
    "print(f\" Par défaut, df.head() affiche les 5 premiers éléments, ici nous passons 2 en paramètre pour afficher les 2 premiers : \\n {df_by_dict_objet.head(2)}\")\n",
    "\n",
    "print(\"\\n\")\n",
    "print(f\" Par défaut, df.tail() affiche les 5 derniers éléments, ici nous passons 2 en paramètre pour afficher les 2 derniers : \\n {df_by_dict_objet.head(2)}\")\n",
    "print(\"\\n\")\n",
    "print(f\"les index du dataframe sont : \\n {df_by_dict_objet.index}\")\n",
    "print(\"\\n\")\n",
    "print(f\"les colonnes du dataframe sont : \\n {df_by_dict_objet.columns}\")\n",
    "print(\"\\n\")\n",
    "print(f\"les index du dataframe sont : \\n {df_by_dict_objet.index}\")\n",
    "print(\"\\n\")\n",
    "print(f\"les index du dataframe sont : \\n {df_by_dict_objet.index}\")\n",
    "print(\"\\n\")\n",
    "print(f\"Donne moi la transposé de ton DataFrame : \\n {df_by_dict_objet.T}\")"
   ]
  },
  {
   "cell_type": "markdown",
   "metadata": {},
   "source": [
    "### Transformer le DataFrame en un tableau array numpy\n",
    "NB : cette transformation est obligatoire, afin de pouvoir sélectionner par index les colonnes de se dataframe "
   ]
  },
  {
   "cell_type": "code",
   "execution_count": 68,
   "metadata": {},
   "outputs": [
    {
     "name": "stdout",
     "output_type": "stream",
     "text": [
      "[[1.0 Timestamp('2013-01-02 00:00:00') 1.0 3 'testA' 'foo']\n",
      " [1.0 Timestamp('2013-01-02 00:00:00') 1.0 3 'trainA' 'foo']\n",
      " [1.0 Timestamp('2013-01-02 00:00:00') 1.0 3 'testB' 'foo']\n",
      " [1.0 Timestamp('2013-01-02 00:00:00') 1.0 3 'trainB' 'foo']]\n"
     ]
    }
   ],
   "source": [
    "print(df_by_dict_objet.to_numpy())\n"
   ]
  },
  {
   "cell_type": "markdown",
   "metadata": {},
   "source": [
    "## Tri du dataframe par axe ou par valeurs"
   ]
  },
  {
   "cell_type": "markdown",
   "metadata": {},
   "source": [
    "### Tri du datafrme par axe"
   ]
  },
  {
   "cell_type": "code",
   "execution_count": null,
   "metadata": {},
   "outputs": [],
   "source": []
  },
  {
   "cell_type": "markdown",
   "metadata": {},
   "source": [
    "### Tri du dataframe par valeurs"
   ]
  },
  {
   "cell_type": "code",
   "execution_count": null,
   "metadata": {},
   "outputs": [],
   "source": []
  },
  {
   "cell_type": "markdown",
   "metadata": {},
   "source": [
    "## Sélection du dataframe"
   ]
  }
 ],
 "metadata": {
  "kernelspec": {
   "display_name": "Python 3",
   "language": "python",
   "name": "python3"
  },
  "language_info": {
   "codemirror_mode": {
    "name": "ipython",
    "version": 3
   },
   "file_extension": ".py",
   "mimetype": "text/x-python",
   "name": "python",
   "nbconvert_exporter": "python",
   "pygments_lexer": "ipython3",
   "version": "3.13.0"
  }
 },
 "nbformat": 4,
 "nbformat_minor": 2
}
