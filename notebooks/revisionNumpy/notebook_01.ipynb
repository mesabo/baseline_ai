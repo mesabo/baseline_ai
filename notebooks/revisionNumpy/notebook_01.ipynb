{
 "cells": [
  {
   "cell_type": "code",
   "execution_count": 4,
   "metadata": {},
   "outputs": [],
   "source": [
    "import numpy as np"
   ]
  },
  {
   "cell_type": "code",
   "execution_count": 5,
   "metadata": {},
   "outputs": [
    {
     "name": "stdout",
     "output_type": "stream",
     "text": [
      "[1 2 4 5]\n"
     ]
    }
   ],
   "source": [
    "a = np.array([1,2, 4, 5])\n",
    "print(a)"
   ]
  },
  {
   "cell_type": "markdown",
   "metadata": {},
   "source": [
    "# La Notion de vue et de copie"
   ]
  },
  {
   "cell_type": "code",
   "execution_count": 6,
   "metadata": {},
   "outputs": [
    {
     "name": "stdout",
     "output_type": "stream",
     "text": [
      "Ce tableau b  [1 2 4]  est une vue du tableau a. La prevue : b.base donne le tableau a =  [1 2 4 5] \n",
      " si le tableau b était une copie alors b.base serait = à None\n",
      "b étant une vue de a <=> la modification de b entraîne celle de a\n",
      "b[2] =  10 ,ainsi b =[ 1  2 10] ,b étant une vue de a, a est également modifié : [ 1  2 10  5]\n"
     ]
    }
   ],
   "source": [
    "a = np.array([1,2, 4, 5])\n",
    "b = a[:3]\n",
    "print(f\"Ce tableau b \", b ,\" est une vue du tableau a. La prevue : b.base donne le tableau a = \", b.base, \"\\n si le tableau b était une copie alors b.base serait = à None\" )\n",
    "print(f\"b étant une vue de a <=> la modification de b entraîne celle de a\")\n",
    "b[2] = 10\n",
    "print(f\"b[2] =  {b[2]} ,ainsi b ={b} ,b étant une vue de a, a est également modifié : {a}\")"
   ]
  },
  {
   "cell_type": "markdown",
   "metadata": {},
   "source": [
    "### Forcer un tableau à être une vue ou une copie"
   ]
  },
  {
   "cell_type": "code",
   "execution_count": 7,
   "metadata": {},
   "outputs": [
    {
     "name": "stdout",
     "output_type": "stream",
     "text": [
      "Nous pouvons forcer un tableau beta à être une copie d'un tableau alpha, par l'instruction : beta = alpha.copy()\n",
      "b.base = None\n",
      "Nous pouvons également forcer un tableau beta à être une vue d'un tableau alpha, par l'instruction : beta = alpha.view()\n",
      "b étant une copie de a <=> la modification de b n'entraîne pas celle de a\n",
      "b[2] =  15 ,ainsi b =[ 1  2 15] ,b étant une copie de a, a est n'est pas modifié : [1 2 4 5]\n"
     ]
    }
   ],
   "source": [
    "a = np.array([1,2, 4, 5])\n",
    "print(f\"Nous pouvons forcer un tableau beta à être une copie d'un tableau alpha, par l'instruction : beta = alpha.copy()\")\n",
    "b = a[:3].copy()\n",
    "print(f\"b.base = {b.base}\")\n",
    "print(f\"Nous pouvons également forcer un tableau beta à être une vue d'un tableau alpha, par l'instruction : beta = alpha.view()\")\n",
    "print(f\"b étant une copie de a <=> la modification de b n'entraîne pas celle de a\")\n",
    "b[2] = 15\n",
    "print(f\"b[2] =  {b[2]} ,ainsi b ={b} ,b étant une copie de a, a est n'est pas modifié : {a}\")"
   ]
  },
  {
   "cell_type": "markdown",
   "metadata": {},
   "source": [
    "# Les attributs de tableau"
   ]
  },
  {
   "cell_type": "code",
   "execution_count": 8,
   "metadata": {},
   "outputs": [
    {
     "name": "stdout",
     "output_type": "stream",
     "text": [
      "La dimension de a : [ 3  5 12 18  9 52 64  9] est a.ndim = 1 , la forme est a est a.shape = (8,) , le nombre d'élement de a est : a.size = 8\n",
      "L'attribut dtype nous permet de connaître le type des élements qui constitue le tableau.  a.dtype = int64\n"
     ]
    }
   ],
   "source": [
    "a = np.array([3, 5, 12, 18, 9, 52, 64, 9])\n",
    "print(f\"La dimension de a : {a} est a.ndim = {a.ndim} , la forme est a est a.shape = {a.shape} , le nombre d'élement de a est : a.size = {a.size}\")\n",
    "print(f\"L'attribut dtype nous permet de connaître le type des élements qui constitue le tableau.  a.dtype = {a.dtype}\")"
   ]
  },
  {
   "cell_type": "markdown",
   "metadata": {},
   "source": [
    "# Création de tableau de base avec arange, linspace, zeros, ones"
   ]
  },
  {
   "cell_type": "code",
   "execution_count": 9,
   "metadata": {},
   "outputs": [
    {
     "name": "stdout",
     "output_type": "stream",
     "text": [
      "la syntaxe est np.zeros(nombre_elements, dtype=type) : [0 0 0 0]\n",
      " [0. 0. 0. 0.]\n",
      "la syntaxe est np.empty(nombre_elements, dtype=type) : [0 0 0 0]\n",
      "[0. 0. 0. 0.]\n",
      "la syntaxe est np.ones(nombre_elements, dtype=type) : [1. 1. 1. 1.]\n",
      "la syntaxe est np.arange(nombre_elements, dtype=type) : [0 1 2 3 4 5]\n",
      "la syntaxe est np.linspace(nombre_debut, nombre_fin, num=nombres_elements_dans_le_tableau, dtype = type)\n",
      "[3.0 3.75 4.5 5.25 6.0]\n"
     ]
    }
   ],
   "source": [
    "print(f\"la syntaxe est np.zeros(nombre_elements, dtype=type) : {np.zeros(4, dtype=\"int64\")}\")\n",
    "print(f\" {np.zeros(4)}\")\n",
    "\n",
    "print(f\"la syntaxe est np.empty(nombre_elements, dtype=type) : {np.empty(4, dtype=\"int64\")}\")\n",
    "print(f\"{np.empty(4)}\")\n",
    "\n",
    "print(f\"la syntaxe est np.ones(nombre_elements, dtype=type) : {np.ones(4)}\")\n",
    "\n",
    "print(f\"la syntaxe est np.arange(nombre_elements, dtype=type) : {np.arange(6)}\")\n",
    "\n",
    "print(f\"la syntaxe est np.linspace(nombre_debut, nombre_fin, num=nombres_elements_dans_le_tableau, dtype = type)\")\n",
    "print(f\"{np.linspace(3, 6, num=5, dtype = type)}\")"
   ]
  },
  {
   "cell_type": "markdown",
   "metadata": {},
   "source": [
    "# Changer la forme d'un tableau\n",
    "###   - sans modifier les données : reshape\n",
    "###   - peut modifier les données : resize"
   ]
  },
  {
   "cell_type": "code",
   "execution_count": 10,
   "metadata": {},
   "outputs": [
    {
     "name": "stdout",
     "output_type": "stream",
     "text": [
      "a = [0. 0. 0. 0. 0. 0.]\n",
      "Modifions la forme de a avec le reshape, nous allons remplir le nouveau tableau par ligne, donc a = [[0. 0. 0.]\n",
      " [0. 0. 0.]]\n",
      "Modifions la forme de a avec le reshape, nous allons remplir le nouveau tableau par colonne, donc a = [[0. 0. 0.]\n",
      " [0. 0. 0.]]\n",
      "b = [1. 1. 1.]\n",
      "Modifions la forme de b avec le resize, ici nous n'avons pas d'ordre de remplissage du tableau, donc b = [[1. 1. 1.]\n",
      " [1. 1. 1.]]\n"
     ]
    }
   ],
   "source": [
    "a = np.zeros(6)\n",
    "print(f\"a = {a}\")\n",
    "print(f\"Modifions la forme de a avec le reshape, nous allons remplir le nouveau tableau par ligne, donc a = {np.reshape(a, (2,3), order =\"C\")}\")\n",
    "print(f\"Modifions la forme de a avec le reshape, nous allons remplir le nouveau tableau par colonne, donc a = {np.reshape(a, (2,3), order =\"F\")}\")\n",
    "\n",
    "b = np.ones(3)\n",
    "print(f\"b = {b}\")\n",
    "print(f\"Modifions la forme de b avec le resize, ici nous n'avons pas d'ordre de remplissage du tableau, donc b = {np.resize(b, (2,3))}\")"
   ]
  },
  {
   "cell_type": "markdown",
   "metadata": {},
   "source": [
    "# Tableau de structure"
   ]
  },
  {
   "cell_type": "code",
   "execution_count": 11,
   "metadata": {},
   "outputs": [
    {
     "name": "stdout",
     "output_type": "stream",
     "text": [
      "Voici le tableau structuré : [('ncho', 'boni marie', 15) ('aka', 'mouchia jo', 21)\n",
      " ('doh', 'marie colo',  8) ('angbore', 'emmanuel', 16)]\n"
     ]
    }
   ],
   "source": [
    "tpe = [(\"nom\", \"<U10\"), (\"prénom\",\"<U10\"), (\"age\", \"int64\")]\n",
    "valeurs = [(\"ncho\", \"boni marie\", 15), (\"aka\", \"mouchia jocelyne\", 21), (\"doh\", \"marie colombe\", 8), (\"angbore\", \"emmanuel\", 16)]\n",
    "tab_struc = np.array(valeurs, dtype = tpe)\n",
    "print(f\"Voici le tableau structuré : {tab_struc}\")"
   ]
  },
  {
   "cell_type": "markdown",
   "metadata": {},
   "source": [
    "### Faire le tri avec np.sort()"
   ]
  },
  {
   "cell_type": "code",
   "execution_count": 12,
   "metadata": {},
   "outputs": [
    {
     "name": "stdout",
     "output_type": "stream",
     "text": [
      "le tableau trié par défaut : \n",
      " [('aka', 'marie', 21) ('angbore', 'emmanuel', 16) ('doh', 'marie',  8)\n",
      " ('ncho', 'boni marie', 15)]\n",
      "\n",
      "\n",
      "le tableau en sens inverse : \n",
      " [('ncho', 'boni marie', 15) ('doh', 'marie',  8)\n",
      " ('angbore', 'emmanuel', 16) ('aka', 'marie', 21)]\n",
      "\n",
      "\n",
      " Tri du tableau par ordre alphabétique de prénom  : \n",
      " [('ncho', 'boni marie', 15) ('angbore', 'emmanuel', 16)\n",
      " ('aka', 'marie', 21) ('doh', 'marie',  8)]\n",
      "\n",
      "\n",
      " Tri du tableau par ordre alphabétique de prénom, s'il y a égalité entre deux prénom alors tri par age : \n",
      " [('ncho', 'boni marie', 15) ('angbore', 'emmanuel', 16)\n",
      " ('doh', 'marie',  8) ('aka', 'marie', 21)]\n",
      "\n",
      "\n",
      " Tri le tableau par ordre alphabétique inverse des prénoms, s'il y a égalité entre deux prénoms, fais le tri suivant l'âge et par ordre décroissant  : \n",
      " [('aka', 'marie', 21) ('doh', 'marie',  8) ('angbore', 'emmanuel', 16)\n",
      " ('ncho', 'boni marie', 15)]\n",
      "\n",
      "\n"
     ]
    }
   ],
   "source": [
    "tab_struc = np.array([(\"ncho\", \"boni marie dominique\", 15), (\"aka\", \"marie\", 21), (\"doh\", \"marie\", 8), (\"angbore\", \"emmanuel\", 16)], [(\"nom\", \"<U10\"), (\"prénom\",\"<U10\"), (\"age\", \"int64\")])\n",
    "print(f\"le tableau trié par défaut : \\n {np.sort(tab_struc)}\")\n",
    "print(f\"\\n\")\n",
    "print(f\"le tableau en sens inverse : \\n {np.sort(tab_struc)[::-1]}\")\n",
    "print(f\"\\n\")\n",
    "print(f\" Tri du tableau par ordre alphabétique de prénom  : \\n {np.sort(tab_struc, order=[\"prénom\"], kind=\"mergesort\")}\")\n",
    "print(f\"\\n\")\n",
    "print(f\" Tri du tableau par ordre alphabétique de prénom, s'il y a égalité entre deux prénom alors tri par age : \\n {np.sort(tab_struc, order=[\"prénom\", \"age\"], kind=\"mergesort\")}\")\n",
    "print(f\"\\n\")\n",
    "print(f\" Tri le tableau par ordre alphabétique inverse des prénoms, s'il y a égalité entre deux prénoms, fais le tri suivant l'âge et par ordre décroissant  : \\n {np.sort(tab_struc, order=[\"prénom\", \"age\"], kind=\"mergesort\")[::-1]}\")\n",
    "print(f\"\\n\")"
   ]
  },
  {
   "cell_type": "markdown",
   "metadata": {},
   "source": [
    "## Changer la dimension d'un tableau existant en ajoutant un nouvel axe avec newaxis et expand_dims"
   ]
  },
  {
   "cell_type": "markdown",
   "metadata": {},
   "source": [
    "#### newaxis"
   ]
  },
  {
   "cell_type": "code",
   "execution_count": 13,
   "metadata": {},
   "outputs": [
    {
     "name": "stdout",
     "output_type": "stream",
     "text": [
      " a = [ 3  5 12 18  9 52 64  9]\n",
      "a.shape = (8,) \n",
      "\n",
      "[ 3  5 12 18  9 52 64  9]\n",
      "b : [[ 3  5 12 18  9 52 64  9]]\n",
      "b.shape : (1, 8)\n",
      "\n",
      "\n",
      "[ 3  5 12 18  9 52 64  9]\n",
      "c : [[ 3]\n",
      " [ 5]\n",
      " [12]\n",
      " [18]\n",
      " [ 9]\n",
      " [52]\n",
      " [64]\n",
      " [ 9]]\n",
      "c.shape : (8, 1) \n",
      "\n",
      "ajouter un troisième axe à c. Ainsi d = : [[[ 3]\n",
      "  [ 5]\n",
      "  [12]\n",
      "  [18]\n",
      "  [ 9]\n",
      "  [52]\n",
      "  [64]\n",
      "  [ 9]]]\n",
      "d.shape : (1, 8, 1) \n",
      "\n"
     ]
    }
   ],
   "source": [
    "a = np.array([3, 5, 12, 18, 9, 52, 64, 9])\n",
    "print(f\" a = {a}\")\n",
    "print(f\"a.shape = {a.shape} \\n\")\n",
    "b = a[np.newaxis, :]\n",
    "print(b.base)\n",
    "print(f\"b : {b}\")\n",
    "print(f\"b.shape : {b.shape}\")\n",
    "\n",
    "print(\"\\n\")\n",
    "\n",
    "c = a[:, np.newaxis]\n",
    "print(c.base)\n",
    "print(f\"c : {c}\")\n",
    "print(f\"c.shape : {c.shape} \\n\")\n",
    "\n",
    "d = c[np.newaxis, :]\n",
    "print(f\"ajouter un troisième axe à c. Ainsi d = : {d}\")\n",
    "print(f\"d.shape : {d.shape} \\n\")"
   ]
  },
  {
   "cell_type": "markdown",
   "metadata": {},
   "source": [
    "#### expand_dims"
   ]
  },
  {
   "cell_type": "code",
   "execution_count": 14,
   "metadata": {},
   "outputs": [
    {
     "name": "stdout",
     "output_type": "stream",
     "text": [
      " a = [ 3  5 12 18  9 52 64  9]\n",
      "a.shape = (8,) \n",
      "\n",
      " b = [[ 3]\n",
      " [ 5]\n",
      " [12]\n",
      " [18]\n",
      " [ 9]\n",
      " [52]\n",
      " [64]\n",
      " [ 9]]\n",
      " b.shape = (8, 1)\n",
      "\n",
      "\n",
      " c = [[ 3  5 12 18  9 52 64  9]]\n",
      " c.shape = (1, 8) \n",
      "\n",
      "ajouter un troisième axe à c. Ainsi e = : [[[ 3  5 12 18  9 52 64  9]]]\n",
      "d.shape : (1, 1, 8) \n",
      "\n"
     ]
    }
   ],
   "source": [
    "a = np.array([3, 5, 12, 18, 9, 52, 64, 9])\n",
    "print(f\" a = {a}\")\n",
    "print(f\"a.shape = {a.shape} \\n\")\n",
    "b = np.expand_dims(a, axis = 1)\n",
    "print(f\" b = {b}\")\n",
    "print(f\" b.shape = {b.shape}\")\n",
    "\n",
    "print(f\"\\n\")\n",
    "\n",
    "c = np.expand_dims(a, axis = 0)\n",
    "print(f\" c = {c}\")\n",
    "print(f\" c.shape = {c.shape} \\n\")\n",
    "\n",
    "e = c[:, np.newaxis]\n",
    "print(f\"ajouter un troisième axe à c. Ainsi e = : {e}\")\n",
    "print(f\"d.shape : {e.shape} \\n\")"
   ]
  },
  {
   "cell_type": "markdown",
   "metadata": {},
   "source": [
    "## Sélectionner certains éléments dans un tableau numpy"
   ]
  },
  {
   "cell_type": "code",
   "execution_count": 15,
   "metadata": {},
   "outputs": [
    {
     "name": "stdout",
     "output_type": "stream",
     "text": [
      "les élements supérieurs à 5 de notre tableau sont :[ 6  8 11 42 65 87]\n"
     ]
    }
   ],
   "source": [
    "my_tab = np.array([[1, 4, 6, 8],[11, 42, 65, 87]])\n",
    "my_index = (my_tab > 5)\n",
    "print(f\"les élements supérieurs à 5 de notre tableau sont :{my_tab[my_index]}\")"
   ]
  },
  {
   "cell_type": "code",
   "execution_count": 16,
   "metadata": {},
   "outputs": [
    {
     "name": "stdout",
     "output_type": "stream",
     "text": [
      "les élements supérieurs à 5 et inférieurs à 60 :[ 6  8 11 42 65 87]\n"
     ]
    }
   ],
   "source": [
    "my_tab = np.array([[1, 4, 6, 8],[11, 42, 65, 87]])\n",
    "my_elements = (my_tab > 5) & (my_tab <= 60)\n",
    "print(f\"les élements supérieurs à 5 et inférieurs à 60 :{my_tab[my_index]}\")"
   ]
  },
  {
   "cell_type": "code",
   "execution_count": 17,
   "metadata": {},
   "outputs": [
    {
     "name": "stdout",
     "output_type": "stream",
     "text": [
      "les élements supérieurs à 5 et inférieurs à 60 : \n",
      " (array([0, 0, 1, 1]), array([2, 3, 0, 1]))\n"
     ]
    }
   ],
   "source": [
    "my_tab = np.array([[1, 4, 6, 8],[11, 42, 65, 87]])\n",
    "my_index = np.nonzero((my_tab > 5) & (my_tab <= 60))\n",
    "print(f\"les élements supérieurs à 5 et inférieurs à 60 : \\n {my_index}\")"
   ]
  },
  {
   "cell_type": "markdown",
   "metadata": {},
   "source": [
    "## Apllatir un tableau multidimensionnel avec flatten() et ravel()"
   ]
  },
  {
   "cell_type": "code",
   "execution_count": 95,
   "metadata": {},
   "outputs": [
    {
     "name": "stdout",
     "output_type": "stream",
     "text": [
      "Applatissons avec flatten le tableau : \n",
      " [[ 1  4  6  8]\n",
      " [11 42 65 87]]  \n",
      " ce qui donne : my_tab.flatten [ 1  4  6  8 11 42 65 87], cette table est une copie car tab_applatir_flatten.base = None \n",
      "\n",
      "\n",
      "Applatissons avec flatten le tableau : \n",
      " [[ 1  4  6  8]\n",
      " [11 42 65 87]]  \n",
      " ce qui donne : my_tab.ravel [ 1  4  6  8 11 42 65 87], cette table est une vue (référence) car tab_applatir_ravel.base = [[ 1  4  6  8]\n",
      " [11 42 65 87]] \n"
     ]
    }
   ],
   "source": [
    "my_tab = np.array([[1, 4, 6, 8],[11, 42, 65, 87]])\n",
    "tab_applatir_flatten = my_tab.flatten()\n",
    "tab_applatir_ravel = my_tab.ravel()\n",
    "print(f\"Applatissons avec flatten le tableau : \\n {my_tab}  \\n ce qui donne : my_tab.flatten {tab_applatir_flatten.flatten()}, cette table est une copie car tab_applatir_flatten.base = {tab_applatir_flatten.base} \")\n",
    "print(\"\\n\")\n",
    "print(f\"Applatissons avec flatten le tableau : \\n {my_tab}  \\n ce qui donne : my_tab.ravel {tab_applatir_flatten.ravel()}, cette table est une vue (référence) car tab_applatir_ravel.base = {tab_applatir_ravel.base} \")"
   ]
  },
  {
   "cell_type": "markdown",
   "metadata": {},
   "source": [
    "# La concaténation"
   ]
  },
  {
   "cell_type": "markdown",
   "metadata": {},
   "source": [
    "#### - Pour les tableaux à 1 dimension c-i-e le shape de ce tableau est sous la forme : shape(nombre,)"
   ]
  },
  {
   "cell_type": "code",
   "execution_count": 18,
   "metadata": {},
   "outputs": [
    {
     "name": "stdout",
     "output_type": "stream",
     "text": [
      " la concatenation de a de forme (4,) et de b de forme (4,) donne : [ 1  3  5  8 13  2 56 90]\n",
      "\n",
      "\n",
      " la concatenation de a de forme (4,) et de b de forme (7,) donne : [ 1  3  5  8 13  2 56 90 23 30 11]\n",
      "\n",
      "\n",
      " la concatenation de a de forme (4,) et de b de forme (7,) donne : [ 1  3  5  8 13  2 56 90 23 30 11]\n"
     ]
    }
   ],
   "source": [
    "a = np.array([1, 3, 5, 8])\n",
    "b = np.array([13, 2, 56, 90])\n",
    "print(f\" la concatenation de a de forme {a.shape} et de b de forme {b.shape} donne : {np.concatenate((a,b))}\")\n",
    "\n",
    "print(f\"\\n\")\n",
    "\n",
    "a = np.array([1, 3, 5, 8])\n",
    "b = np.array([13, 2, 56, 90, 23, 30, 11])\n",
    "print(f\" la concatenation de a de forme {a.shape} et de b de forme {b.shape} donne : {np.concatenate((a,b))}\")\n",
    "\n",
    "print(f\"\\n\")\n",
    "\n",
    "print(f\" la concatenation de a de forme {a.shape} et de b de forme {b.shape} donne : {np.concatenate((a,b), axis = 0)}\")"
   ]
  },
  {
   "cell_type": "markdown",
   "metadata": {},
   "source": [
    "###### NB : la concatenation entre deux tableaux de dimension 1, ne peut pas se faire sur l'axis 1"
   ]
  },
  {
   "cell_type": "markdown",
   "metadata": {},
   "source": [
    "#### - Pour les tableaux à 2 dimension c-i-e le shape de ce tableau est sous la forme : shape(nombre,nombre)"
   ]
  },
  {
   "cell_type": "markdown",
   "metadata": {},
   "source": [
    "#####  NB : pour les tableaux à 2 dimensions, la concaténation peut se faire sur l'axis 0 comme sur l'axis 1.  à condition que nb_colonne_tab1 = nb_colonne_tab2 et nb_ligne_tab1 = nb_ligne_tab2 "
   ]
  },
  {
   "cell_type": "code",
   "execution_count": 19,
   "metadata": {},
   "outputs": [
    {
     "name": "stdout",
     "output_type": "stream",
     "text": [
      "la concaténation suivant la colonne de\n",
      " [[ 1  3  5  8]\n",
      " [23 56  2 80]] \n",
      " et de \n",
      " [[ 1  3  5  8]\n",
      " [23 56  2 80]] \n",
      " donne : \n",
      " [[ 1  3  5  8  2  4  6]\n",
      " [23 56  2 80 24 57  3]]\n"
     ]
    }
   ],
   "source": [
    "tab_1 = np.array([[1, 3, 5, 8], [23, 56, 2, 80]])\n",
    "tab_2 = np.array([[2, 4, 6], [24, 57, 3]])\n",
    "tab_12 = np.concatenate((tab_1, tab_2), axis = 1)\n",
    "print(f\"la concaténation suivant la colonne de\\n {tab_1} \\n et de \\n {tab_1} \\n donne : \\n {tab_12}\")"
   ]
  },
  {
   "cell_type": "code",
   "execution_count": 20,
   "metadata": {},
   "outputs": [
    {
     "name": "stdout",
     "output_type": "stream",
     "text": [
      "la concaténation suivant la colonne de\n",
      " [[ 1  3  5]\n",
      " [23 56  2]] \n",
      " et de \n",
      " [[ 1  3  5]\n",
      " [23 56  2]] \n",
      " donne : \n",
      " [[ 1  3  5]\n",
      " [23 56  2]\n",
      " [ 2  4  6]\n",
      " [24 57  3]\n",
      " [79 24  8]]\n"
     ]
    }
   ],
   "source": [
    "tab_1 = np.array([[1, 3, 5], [23, 56, 2]])\n",
    "tab_2 = np.array([[2, 4, 6], [24, 57, 3], [79, 24, 8]])\n",
    "tab_12 = np.concatenate((tab_1, tab_2), axis = 0)\n",
    "print(f\"la concaténation suivant la colonne de\\n {tab_1} \\n et de \\n {tab_1} \\n donne : \\n {tab_12}\")"
   ]
  },
  {
   "cell_type": "markdown",
   "metadata": {},
   "source": [
    "### Empilement avec vstack (empilement verticale) et hstack (empilement horizontale)"
   ]
  },
  {
   "cell_type": "code",
   "execution_count": null,
   "metadata": {},
   "outputs": [
    {
     "name": "stdout",
     "output_type": "stream",
     "text": [
      "empilement verticale de tab_1 de dimension : 1 et de tab_2 de dimension : 1 donne : \n",
      " [[ 1  3  5]\n",
      " [23 56  2]]\n"
     ]
    }
   ],
   "source": [
    "tab_1 = np.array([1, 3, 5])\n",
    "tab_2 = np.array([23, 56, 2])\n",
    "tab_12 = np.vstack ([tab_1, tab_2])\n",
    "print(f\"empilement vertical de tab_1 de dimension : {tab_1.ndim} et de tab_2 de dimension : {tab_2.ndim} donne : \\n {tab_12}\")"
   ]
  },
  {
   "cell_type": "code",
   "execution_count": 24,
   "metadata": {},
   "outputs": [
    {
     "name": "stdout",
     "output_type": "stream",
     "text": [
      "empilement horizontal de tab_1 de dimension : 1 et de tab_2 de dimension : 1 donne : \n",
      " [ 1  3  5 23 56  2]\n"
     ]
    }
   ],
   "source": [
    "tab_1 = np.array([1, 3, 5])\n",
    "tab_2 = np.array([23, 56, 2])\n",
    "tab_12 = np.hstack ([tab_1, tab_2])\n",
    "print(f\"empilement horizontal de tab_1 de dimension : {tab_1.ndim} et de tab_2 de dimension : {tab_2.ndim} donne : \\n {tab_12}\")"
   ]
  },
  {
   "cell_type": "markdown",
   "metadata": {},
   "source": [
    "### Le hsplit() : division d'un tableau en plusieurs tableaux"
   ]
  },
  {
   "cell_type": "code",
   "execution_count": 31,
   "metadata": {},
   "outputs": [
    {
     "name": "stdout",
     "output_type": "stream",
     "text": [
      "[[ 1  2  3  4  5  6  7  8  9 10 11 12]\n",
      " [13 14 15 16 17 18 19 20 21 22 23 24]]\n",
      " Grâce à hsplit, nous avons divisé notre tableau en 3 partie égales : \n",
      " [array([[ 1,  2,  3,  4],\n",
      "       [13, 14, 15, 16]]), array([[ 5,  6,  7,  8],\n",
      "       [17, 18, 19, 20]]), array([[ 9, 10, 11, 12],\n",
      "       [21, 22, 23, 24]])]\n"
     ]
    }
   ],
   "source": [
    "x = np.arange(1,25).reshape(2,12)\n",
    "print(f\"{x}\")\n",
    "print(f\" Grâce à hsplit, nous avons divisé notre tableau en 3 partie égales : \\n {np.hsplit(x, 3)}\")"
   ]
  },
  {
   "cell_type": "code",
   "execution_count": 33,
   "metadata": {},
   "outputs": [
    {
     "name": "stdout",
     "output_type": "stream",
     "text": [
      "[[ 1  2  3  4  5  6  7  8  9 10 11 12]\n",
      " [13 14 15 16 17 18 19 20 21 22 23 24]]\n",
      " Grâce à hsplit, nous avons divisé notre tableau à parir du 5ième élément, puis du 7ième élément, ce qui nous donne : \n",
      " [array([[ 1,  2,  3,  4,  5],\n",
      "       [13, 14, 15, 16, 17]]), array([[ 6,  7],\n",
      "       [18, 19]]), array([[ 8,  9, 10, 11, 12],\n",
      "       [20, 21, 22, 23, 24]])]\n"
     ]
    }
   ],
   "source": [
    "x = np.arange(1,25).reshape(2,12)\n",
    "print(f\"{x}\")\n",
    "print(f\" Grâce à hsplit, nous avons divisé notre tableau à parir du 5ième élément, puis du 7ième élément, ce qui nous donne : \\n {np.hsplit(x, (5, 7))}\")"
   ]
  },
  {
   "cell_type": "markdown",
   "metadata": {},
   "source": [
    "## La somme, la soustraction, la multiplication, la division  avec tablau a deux dimensions"
   ]
  },
  {
   "cell_type": "code",
   "execution_count": 52,
   "metadata": {},
   "outputs": [
    {
     "name": "stdout",
     "output_type": "stream",
     "text": [
      "la somme de table 1 de shape : (2, 3) et de table 2 de shape : (2, 3) donne la table ci-dessous : \n",
      " [[  3   7  11]\n",
      " [ 47 113   5]] de shape : (2, 3)\n",
      "\n",
      "\n",
      "la soustraction de table 1 de shape : (2, 3) et de table 2 de shape : (2, 3) donne la table ci-dessous : \n",
      " [[-1 -1 -1]\n",
      " [-1 -1 -1]] de shape : (2, 3)\n",
      "\n",
      "\n",
      "la multiplication de table 1 de shape : (2, 3) et de table 2 de shape : (2, 3) donne la table ci-dessous : \n",
      " [[   2   12   30]\n",
      " [ 552 3192    6]] de shape : (2, 3)\n",
      "\n",
      "\n",
      "la division de table 1 de shape : (2, 3) par table 2 de shape : (2, 3) donne la table ci-dessous : \n",
      " [[0.5        0.75       0.83333333]\n",
      " [0.95833333 0.98245614 0.66666667]] de shape : (2, 3)\n"
     ]
    }
   ],
   "source": [
    "tab_1 = np.array([[1, 3, 5], [23, 56, 2]])\n",
    "tab_2 = np.array([[2, 4, 6], [24, 57, 3]])\n",
    "tab_12a = tab_1 + tab_2\n",
    "tab_12s = tab_1 - tab_2\n",
    "tab_12m = tab_1 * tab_2\n",
    "tab_12d = tab_1 / tab_2\n",
    "\n",
    "print(f\"la somme de table 1 de shape : {tab_1.shape} et de table 2 de shape : {tab_2.shape} donne la table ci-dessous : \\n {tab_12a} de shape : {tab_12a.shape}\")\n",
    "print(\"\\n\")\n",
    "print(f\"la soustraction de table 1 de shape : {tab_1.shape} et de table 2 de shape : {tab_2.shape} donne la table ci-dessous : \\n {tab_12s} de shape : {tab_12s.shape}\")\n",
    "print(\"\\n\")\n",
    "print(f\"la multiplication de table 1 de shape : {tab_1.shape} et de table 2 de shape : {tab_2.shape} donne la table ci-dessous : \\n {tab_12m} de shape : {tab_12m.shape}\")\n",
    "print(\"\\n\")\n",
    "print(f\"la division de table 1 de shape : {tab_1.shape} par table 2 de shape : {tab_2.shape} donne la table ci-dessous : \\n {tab_12d} de shape : {tab_12d.shape}\")"
   ]
  },
  {
   "cell_type": "code",
   "execution_count": 63,
   "metadata": {},
   "outputs": [
    {
     "name": "stdout",
     "output_type": "stream",
     "text": [
      "la somme de table 1 de shape : (2, 3) et de table 2 de shape : (2, 3) donne la table ci-dessous : \n",
      " 186 de shape : ()\n",
      "\n",
      "\n",
      "la soustraction de table 1 de shape : (2, 3) et de table 2 de shape : (2, 3) donne la table ci-dessous : \n",
      " -6 de shape : ()\n",
      "\n",
      "\n",
      "la multiplication de table 1 de shape : (2, 3) et de table 2 de shape : (2, 3) donne la table ci-dessous : \n",
      " 3794 de shape : ()\n",
      "la division de table 1 de shape : (2, 3) et de table 2 de shape : (2, 3) donne la table ci-dessous : \n",
      " 4.6907894736842115 de shape : ()\n",
      "\n",
      "\n",
      "\n",
      "\n",
      "la somme des éléments par ligne de table 1 de shape : (2, 3) donne : \n",
      " [24 59  7] de shape : (3,)\n",
      "la somme des éléments par ligne de table 1 de shape : (2, 3) donne : \n",
      " [24 59  7] de shape : (3,)\n",
      "\n",
      "\n",
      "la somme des éléments par colonne de table 1 de shape : (2, 3) donne : \n",
      " [ 9 81] de shape : (2,)\n",
      "la somme des éléments par colonne de table 1 de shape : (2, 3) donne : \n",
      " [ 9 81] de shape : (2,)\n"
     ]
    }
   ],
   "source": [
    "tab_1 = np.array([[1, 3, 5], [23, 56, 2]])\n",
    "tab_2 = np.array([[2, 4, 6], [24, 57, 3]])\n",
    "\n",
    "print(f\"la somme de table 1 de shape : {tab_1.shape} et de table 2 de shape : {tab_2.shape} donne la table ci-dessous : \\n {np.sum(tab_1 + tab_2)} de shape : {np.sum(tab_1 + tab_2).shape}\")\n",
    "print(\"\\n\")\n",
    "print(f\"la soustraction de table 1 de shape : {tab_1.shape} et de table 2 de shape : {tab_2.shape} donne la table ci-dessous : \\n {np.sum(tab_1 - tab_2)} de shape : {np.sum(tab_1 - tab_2).shape}\")\n",
    "print(\"\\n\")\n",
    "print(f\"la multiplication de table 1 de shape : {tab_1.shape} et de table 2 de shape : {tab_2.shape} donne la table ci-dessous : \\n {np.sum(tab_1 * tab_2)} de shape : {np.sum(tab_1 * tab_2).shape}\")\n",
    "\n",
    "print(f\"la division de table 1 de shape : {tab_1.shape} et de table 2 de shape : {tab_2.shape} donne la table ci-dessous : \\n {np.sum(tab_1 / tab_2)} de shape : {np.sum(tab_1 * tab_2).shape}\")\n",
    "print(\"\\n\")\n",
    "print(\"\\n\")\n",
    "print(f\"la somme des éléments par ligne de table 1 de shape : {tab_1.shape} donne : \\n {tab_1.sum(axis=0)} de shape : {tab_1.sum(axis=0).shape}\")\n",
    "print(f\"la somme des éléments par ligne de table 1 de shape : {tab_1.shape} donne : \\n {np.sum(tab_1, axis=0)} de shape : {np.sum(tab_1, axis=0).shape}\")\n",
    "print(\"\\n\")\n",
    "print(f\"la somme des éléments par colonne de table 1 de shape : {tab_1.shape} donne : \\n {tab_1.sum(axis=1)} de shape : {tab_1.sum(axis=1).shape}\")\n",
    "print(f\"la somme des éléments par colonne de table 1 de shape : {tab_1.shape} donne : \\n {np.sum(tab_1, axis=1)} de shape : {np.sum(tab_1, axis=1).shape}\")"
   ]
  },
  {
   "cell_type": "markdown",
   "metadata": {},
   "source": [
    "### La somme, la soustraction, la multiplication, la division  avec tablau a une dimension"
   ]
  },
  {
   "cell_type": "code",
   "execution_count": null,
   "metadata": {},
   "outputs": [
    {
     "name": "stdout",
     "output_type": "stream",
     "text": [
      "la somme de table 1 de shape : (3,) et de table 2 de shape : (3,) donne la table ci-dessous : \n",
      " [ 3  7 11] de shape : (3,)\n",
      "\n",
      "\n",
      "la soustraction de table 1 de shape : (3,) et de table 2 de shape : (3,) donne la table ci-dessous : \n",
      " [-1 -1 -1] de shape : (3,)\n",
      "\n",
      "\n",
      "la multiplication de table 1 de shape : (3,) et de table 2 de shape : (3,) donne la table ci-dessous : \n",
      " [ 2 12 30] de shape : (3,)\n",
      "\n",
      "\n",
      "la division de table 1 de shape : (3,) par table 2 de shape : (3,) donne la table ci-dessous : \n",
      " [0.5        0.75       0.83333333] de shape : (3,)\n"
     ]
    }
   ],
   "source": [
    "tab_1 = np.array([1, 3, 5])\n",
    "tab_2 = np.array([2, 4, 6])\n",
    "tab_12a = tab_1 + tab_2\n",
    "tab_12s = tab_1 - tab_2\n",
    "tab_12m = tab_1 * tab_2\n",
    "tab_12d = tab_1 / tab_2\n",
    "\n",
    "print(f\"la somme de table 1 de shape : {tab_1.shape} et de table 2 de shape : {tab_2.shape} donne la table ci-dessous : \\n {tab_12a} de shape : {tab_12a.shape}\")\n",
    "print(\"\\n\")\n",
    "print(f\"la soustraction de table 1 de shape : {tab_1.shape} et de table 2 de shape : {tab_2.shape} donne la table ci-dessous : \\n {tab_12s} de shape : {tab_12s.shape}\")\n",
    "print(\"\\n\")\n",
    "print(f\"la multiplication de table 1 de shape : {tab_1.shape} et de table 2 de shape : {tab_2.shape} donne la table ci-dessous : \\n {tab_12m} de shape : {tab_12m.shape}\")\n",
    "print(\"\\n\")\n",
    "print(f\"la division de table 1 de shape : {tab_1.shape} par table 2 de shape : {tab_2.shape} donne la table ci-dessous : \\n {tab_12d} de shape : {tab_12d.shape}\")\n"
   ]
  },
  {
   "cell_type": "code",
   "execution_count": null,
   "metadata": {},
   "outputs": [
    {
     "name": "stdout",
     "output_type": "stream",
     "text": [
      "la somme de table 1 de shape : (3,) et de table 2 de shape : (3,) donne la table ci-dessous : \n",
      " 21 de shape : ()\n",
      "\n",
      "\n",
      "la soustraction de table 1 de shape : (3,) et de table 2 de shape : (3,) donne la table ci-dessous : \n",
      " -3 de shape : ()\n",
      "\n",
      "\n",
      "la multiplication de table 1 de shape : (3,) et de table 2 de shape : (3,) donne la table ci-dessous : \n",
      " 44 de shape : ()\n",
      "\n",
      "\n",
      "la division de table 1 de shape : (3,) et de table 2 de shape : (3,) donne la table ci-dessous : \n",
      " 2.0833333333333335 de shape : ()\n",
      "\n",
      "\n",
      "\n",
      "\n",
      "la somme des éléments de table 1 de shape : (3,) donne : \n",
      " 9 de shape : ()\n",
      "la somme des éléments de table 1 de shape : (3,) donne : \n",
      " 9 de shape : ()\n",
      "\n",
      "\n",
      "la somme des éléments de table 1 de shape : (3,) donne : \n",
      " 9 de shape : ()\n"
     ]
    }
   ],
   "source": [
    "tab_1 = np.array([1, 3, 5])\n",
    "tab_2 = np.array([2, 4, 6])\n",
    "\n",
    "print(f\"la somme de table 1 de shape : {tab_1.shape} et de table 2 de shape : {tab_2.shape} donne la table ci-dessous : \\n {np.sum(tab_1 + tab_2)} de shape : {np.sum(tab_1 + tab_2).shape}\")\n",
    "print(\"\\n\")\n",
    "print(f\"la soustraction de table 1 de shape : {tab_1.shape} et de table 2 de shape : {tab_2.shape} donne la table ci-dessous : \\n {np.sum(tab_1 - tab_2)} de shape : {np.sum(tab_1 - tab_2).shape}\")\n",
    "print(\"\\n\")\n",
    "print(f\"la multiplication de table 1 de shape : {tab_1.shape} et de table 2 de shape : {tab_2.shape} donne la table ci-dessous : \\n {np.sum(tab_1 * tab_2)} de shape : {np.sum(tab_1 * tab_2).shape}\")\n",
    "print(\"\\n\")\n",
    "print(f\"la division de table 1 de shape : {tab_1.shape} et de table 2 de shape : {tab_2.shape} donne la table ci-dessous : \\n {np.sum(tab_1 / tab_2)} de shape : {np.sum(tab_1 * tab_2).shape}\")\n",
    "\n",
    "print(\"\\n\")\n",
    "print(\"\\n\")\n",
    "print(f\"la somme des éléments de table 1 de shape : {tab_1.shape} donne : \\n {tab_1.sum()} de shape : {tab_1.sum().shape}\")\n",
    "print(f\"la somme des éléments de table 1 de shape : {tab_1.shape} donne : \\n {np.sum(tab_1)} de shape : {np.sum(tab_1).shape}\")\n",
    "print(\"\\n\")\n",
    "# error print(f\"la somme des éléments de table 1 de shape : {tab_1.shape} donne : \\n {np.sum(tab_1, axis = 1)} de shape : {np.sum(tab_1).shape}\")\n",
    "print(f\"la somme des éléments de table 1 de shape : {tab_1.shape} donne : \\n {np.sum(tab_1, axis = 0)} de shape : {np.sum(tab_1).shape}\")"
   ]
  },
  {
   "cell_type": "markdown",
   "metadata": {},
   "source": [
    "### La multiplication matricielle"
   ]
  },
  {
   "cell_type": "code",
   "execution_count": null,
   "metadata": {},
   "outputs": [
    {
     "name": "stdout",
     "output_type": "stream",
     "text": [
      "la multiplication matricielle de tab_1 de shape (3, 3) et de tab_2 de shape (2, 3) donne : \n",
      " [[45 60 75]\n",
      " [18 24 30]\n",
      " [45 60 75]]\n",
      "la multiplication matricielle de tab_1 de shape (3, 3) et de tab_2 de shape (2, 3) donne : \n",
      " [[45 60 75]\n",
      " [18 24 30]\n",
      " [45 60 75]]\n",
      "NB : le nombre de colonne de la première table est égale au nombre de ligne de la seconde table\n"
     ]
    }
   ],
   "source": [
    "tab_1 = np.array([[4, 5, 6], [1, 2, 3], [4, 5, 6]])\n",
    "tab_2 = np.array([[1, 2, 3], [1, 2, 3]])\n",
    "tab_12_st_manner = tab_1.dot(tab_1)\n",
    "tab_12_snd_manner = tab_1.dot(tab_1)\n",
    "print(f\"la multiplication matricielle de tab_1 de shape {tab_1.shape} et de tab_2 de shape {tab_2.shape} donne : \\n {tab_12_st_manner}\")\n",
    "print(f\"la multiplication matricielle de tab_1 de shape {tab_1.shape} et de tab_2 de shape {tab_2.shape} donne : \\n {tab_12_snd_manner}\")\n",
    "print(\"\\n\")\n",
    "print(f\"NB : le nombre de colonne de la première table est égale au nombre de ligne de la seconde table\")"
   ]
  },
  {
   "cell_type": "markdown",
   "metadata": {},
   "source": [
    "## Le min, max dans un tableau à deux dimension"
   ]
  },
  {
   "cell_type": "code",
   "execution_count": 72,
   "metadata": {},
   "outputs": [
    {
     "name": "stdout",
     "output_type": "stream",
     "text": [
      "tab_1.max() donne le plus grand nombre du tableau qui est : 6\n",
      "tab_2.min() donne le plus petit nombre du tableau qui est : 1\n",
      "\n",
      "\n",
      "tab_1.max(axis = 1) donne le plus grand nombre de chaque colonne du tableau qui est : [6 3]\n",
      "tab_1.max(axis = 0) donne le plus grand nombre de chaque ligne du tableau qui est : [4 5 6]\n",
      "\n",
      "\n",
      "tab_1.min(axis = 1) donne le plus petit nombre de chaque colonne du tableau qui est : [4 1]\n",
      "tab_1.min(axis = 0) donne le plus petit nombre de chaque ligne du tableau qui est : [1 2 3]\n"
     ]
    }
   ],
   "source": [
    "tab_1 =np.array([[4, 5, 6], [1, 2, 3]])\n",
    "print(f\"tab_1.max() donne le plus grand nombre du tableau qui est : {tab_1.max()}\")\n",
    "print(f\"tab_2.min() donne le plus petit nombre du tableau qui est : {tab_1.min()}\")\n",
    "print(\"\\n\")\n",
    "print(f\"tab_1.max(axis = 1) donne le plus grand nombre de chaque colonne du tableau qui est : {tab_1.max(axis = 1)}\")\n",
    "print(f\"tab_1.max(axis = 0) donne le plus grand nombre de chaque ligne du tableau qui est : {tab_1.max(axis = 0)}\")\n",
    "print(\"\\n\")\n",
    "print(f\"tab_1.min(axis = 1) donne le plus petit nombre de chaque colonne du tableau qui est : {tab_1.min(axis = 1)}\")\n",
    "print(f\"tab_1.min(axis = 0) donne le plus petit nombre de chaque ligne du tableau qui est : {tab_1.min(axis = 0)}\")"
   ]
  },
  {
   "cell_type": "markdown",
   "metadata": {},
   "source": [
    "## Le Broadcasting"
   ]
  },
  {
   "cell_type": "markdown",
   "metadata": {},
   "source": [
    "### L'on peut procéder à l'addition, la soustraction, la multiplication et la division entre deux tableaux si :\n",
    "##### - ces deux tableaux ont la même forme : même dimension.\n",
    "##### - l'un des tableaux est de dimension 1 et de même nombre de dolonne que l'autre tableau qui est de dimension supérieure à 1.\n",
    "##### - l'un est un scalaire et l'autre un tableau."
   ]
  },
  {
   "cell_type": "code",
   "execution_count": 87,
   "metadata": {},
   "outputs": [
    {
     "name": "stdout",
     "output_type": "stream",
     "text": [
      "[[2 3 4]\n",
      " [2 3 4]]\n",
      "[[1 2 3]\n",
      " [1 2 3]]\n",
      "[[1.         0.5        0.33333333]\n",
      " [1.         0.5        0.33333333]]\n",
      "[3 3 3] et \n",
      " [[3 4 5]\n",
      " [3 4 5]]\n"
     ]
    }
   ],
   "source": [
    "tab1 = np.array([1,1,1])\n",
    "tab2 = np.array([[1,2,3],[1,2,3]])\n",
    "tab_sum = tab1 + tab2\n",
    "tab_produit = tab1 * tab2\n",
    "tab_division = tab1 / tab2\n",
    "tab1_sum_by_scalaire, tab2_sum_by_scalaire = tab1 + 2, tab2 + 2\n",
    "# error ne prends pas le produit matricielle en compte tab_produit_matricielle = tab1.dot(tab2)\n",
    "\n",
    "print(f\"{tab_sum}\")\n",
    "print(f\"{tab_produit}\")\n",
    "print(f\"{tab_division}\")\n",
    "#print(f\"{tab_produit_matricielle}\")\n",
    "print(f\"{tab1_sum_by_scalaire} et \\n {tab2_sum_by_scalaire}\")"
   ]
  },
  {
   "cell_type": "markdown",
   "metadata": {},
   "source": [
    "#### Tableau dont les nombres sont générés de manière aléatoire entre un intervalle précis et de shape spécifié"
   ]
  },
  {
   "cell_type": "code",
   "execution_count": 90,
   "metadata": {},
   "outputs": [
    {
     "name": "stdout",
     "output_type": "stream",
     "text": [
      "[[4 0 4]\n",
      " [4 2 4]]\n",
      "\n",
      "\n",
      "[[[3 3 1]\n",
      "  [3 1 1]]\n",
      "\n",
      " [[3 2 4]\n",
      "  [3 2 2]]]\n"
     ]
    }
   ],
   "source": [
    "rng = np.random.default_rng()\n",
    "print(rng.integers(5, size=(2,3)))\n",
    "\n",
    "print(\"\\n\")\n",
    "\n",
    "print(rng.integers(5, size=(2,2,3)))"
   ]
  },
  {
   "cell_type": "markdown",
   "metadata": {},
   "source": [
    "### Quels sont les nombre qui ne se répète pas dans mon tableau ? Donnez les index de ces nombres là"
   ]
  },
  {
   "cell_type": "code",
   "execution_count": 91,
   "metadata": {},
   "outputs": [
    {
     "name": "stdout",
     "output_type": "stream",
     "text": [
      "[ 1  2  4  5  8 12]\n",
      "(array([ 1,  2,  4,  5,  8, 12]), array([0, 1, 2, 6, 4, 8]))\n"
     ]
    }
   ],
   "source": [
    "nbdef = np.array([1,2,4,4,8,1,5,5,12])\n",
    "print(np.unique(nbdef))\n",
    "print(np.unique(nbdef, return_index = True))"
   ]
  },
  {
   "cell_type": "markdown",
   "metadata": {},
   "source": [
    "## Inverser un tableau avec np.flip()"
   ]
  },
  {
   "cell_type": "code",
   "execution_count": 104,
   "metadata": {},
   "outputs": [
    {
     "name": "stdout",
     "output_type": "stream",
     "text": [
      "[12  5  5  1  8  4  4  2  1]\n",
      "\n",
      "\n",
      "[[3 2 1]\n",
      " [6 5 4]]\n",
      "\n",
      "\n",
      "Inverser uniquemment les colonnes d'un tableau à 2 dimensions\n",
      "[[6 5 4]\n",
      " [3 2 1]]\n",
      "\n",
      "\n",
      "Inverser uniquemment les lignes d'un tableau à 2 dimensions\n",
      "[[1 2 3]\n",
      " [4 5 6]]\n",
      "\n",
      "\n",
      "Inverser uniquemment la première colonne d'un tableau à 2 dimensions\n",
      "[[1 5 6]\n",
      " [4 2 3]]\n",
      "\n",
      "\n",
      "Inverser uniquemment la ligne d'index 1 d'un tableau à 2 dimensions\n",
      "[[4 5 6]\n",
      " [3 2 1]]\n"
     ]
    }
   ],
   "source": [
    "tab_fdim = np.array([1,2,4,4,8,1,5,5,12])\n",
    "print(np.flip(tab_fdim))\n",
    "tab_sdim = np.array([[4, 5, 6], [1, 2, 3]])\n",
    "print(\"\\n\")\n",
    "print(np.flip(tab_sdim))\n",
    "print(\"\\n\")\n",
    "print(f\"Inverser uniquemment les colonnes d'un tableau à 2 dimensions\")\n",
    "print(np.flip(tab_sdim, axis = 1))\n",
    "\n",
    "\n",
    "print(\"\\n\")\n",
    "print(f\"Inverser uniquemment les lignes d'un tableau à 2 dimensions\")\n",
    "print(np.flip(tab_sdim, axis = 0))\n",
    "\n",
    "\n",
    "print(\"\\n\")\n",
    "print(f\"Inverser uniquemment la première colonne d'un tableau à 2 dimensions\")\n",
    "invcolonneindex = np.array([[4, 5, 6], [1, 2, 3]])\n",
    "invcolonneindex[:,0] = np.flip(invcolonneindex[:,0])\n",
    "print(invcolonneindex)\n",
    "\n",
    "\n",
    "print(\"\\n\")\n",
    "print(f\"Inverser uniquemment la ligne d'index 1 d'un tableau à 2 dimensions\")\n",
    "invligneindex = np.array([[4, 5, 6], [1, 2, 3]])\n",
    "invligneindex[1] = np.flip(invligneindex[1])\n",
    "print(invligneindex)"
   ]
  },
  {
   "cell_type": "markdown",
   "metadata": {},
   "source": [
    "### Transposé d'un tableau"
   ]
  },
  {
   "cell_type": "code",
   "execution_count": null,
   "metadata": {},
   "outputs": [
    {
     "name": "stdout",
     "output_type": "stream",
     "text": [
      "la transposé du tableau : \n",
      " [[4 5 6]\n",
      " [1 2 3]] \n",
      " peut s'écrire avec tab.T : \n",
      " [[4 1]\n",
      " [5 2]\n",
      " [6 3]] \n",
      " ou bien avec tab.transpose() : \n",
      " [[4 1]\n",
      " [5 2]\n",
      " [6 3]]\n"
     ]
    }
   ],
   "source": [
    "tab = np.array([[4, 5, 6], [1, 2, 3]])\n",
    "print(f\"la transposé du tableau tab : \\n {tab} \\n peut s'écrire avec tab.T : \\n {tab.T} \\n ou bien avec tab.transpose() : \\n {tab.transpose()}\")"
   ]
  }
 ],
 "metadata": {
  "kernelspec": {
   "display_name": "Python 3",
   "language": "python",
   "name": "python3"
  },
  "language_info": {
   "codemirror_mode": {
    "name": "ipython",
    "version": 3
   },
   "file_extension": ".py",
   "mimetype": "text/x-python",
   "name": "python",
   "nbconvert_exporter": "python",
   "pygments_lexer": "ipython3",
   "version": "3.13.0"
  }
 },
 "nbformat": 4,
 "nbformat_minor": 2
}
