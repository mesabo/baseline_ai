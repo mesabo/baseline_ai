{
 "cells": [
  {
   "cell_type": "code",
   "execution_count": null,
   "metadata": {
    "collapsed": false
   },
   "outputs": [],
   "source": [
    "%matplotlib inline\n"
   ]
  },
  {
   "cell_type": "markdown",
   "metadata": {},
   "source": [
    "\n",
    "# Plotting data from a file\n",
    "\n",
    "\n",
    "Plotting data from a file is actually a two-step process.\n",
    "\n",
    "1. Interpreting the file and loading the data.\n",
    "2. Creating the actual plot.\n",
    "\n",
    "`.pyplot.plotfile` tried to do both at once. But each of the steps has so many\n",
    "possible variations and parameters that it does not make sense to squeeze both\n",
    "into a single function. Therefore, `.pyplot.plotfile` has been deprecated.\n",
    "\n",
    "The recommended way of plotting data from a file is therefore to use dedicated\n",
    "functions such as `numpy.loadtxt` or `pandas.read_csv` to read the data. These\n",
    "are more powerful and faster. Then plot the obtained data using matplotlib.\n",
    "\n",
    "Note that `pandas.DataFrame.plot` is a convenient wrapper around Matplotlib\n",
    "to create simple plots.\n"
   ]
  },
  {
   "cell_type": "code",
   "execution_count": null,
   "metadata": {
    "collapsed": false
   },
   "outputs": [],
   "source": [
    "import matplotlib.pyplot as plt\n",
    "import matplotlib.cbook as cbook\n",
    "\n",
    "import numpy as np\n",
    "import pandas as pd\n"
   ]
  },
  {
   "cell_type": "markdown",
   "metadata": {},
   "source": [
    "Using pandas\n",
    "============\n",
    "\n",
    "Subsequent are a few examples of how to replace `~.pyplot.plotfile` with\n",
    "`pandas`. All examples need the the `pandas.read_csv` call first. Note that\n",
    "you can use the filename directly as a parameter::\n",
    "\n",
    "    msft = pd.read_csv('msft.csv')\n",
    "\n",
    "The following slightly more involved `pandas.read_csv` call is only to make\n",
    "automatic rendering of the example work:\n",
    "\n"
   ]
  },
  {
   "cell_type": "code",
   "execution_count": null,
   "metadata": {
    "collapsed": false
   },
   "outputs": [],
   "source": [
    "fname = cbook.get_sample_data('msft.csv', asfileobj=False)\n",
    "with cbook.get_sample_data('msft.csv') as file:\n",
    "    msft = pd.read_csv(file)\n"
   ]
  },
  {
   "cell_type": "markdown",
   "metadata": {},
   "source": [
    "When working with dates, additionally call\n",
    "`pandas.plotting.register_matplotlib_converters` and use the ``parse_dates``\n",
    "argument of `pandas.read_csv`::\n",
    "\n"
   ]
  },
  {
   "cell_type": "code",
   "execution_count": null,
   "metadata": {
    "collapsed": false
   },
   "outputs": [],
   "source": [
    "pd.plotting.register_matplotlib_converters()\n",
    "\n",
    "with cbook.get_sample_data('msft.csv') as file:\n",
    "    msft = pd.read_csv(file, parse_dates=['Date'])\n"
   ]
  },
  {
   "cell_type": "markdown",
   "metadata": {},
   "source": [
    "Use indices\n",
    "-----------\n",
    "\n"
   ]
  },
  {
   "cell_type": "code",
   "execution_count": null,
   "metadata": {
    "collapsed": false
   },
   "outputs": [],
   "source": [
    "# Deprecated:\n",
    "plt.plotfile(fname, (0, 5, 6))\n",
    "\n",
    "# Use instead:\n",
    "msft.plot(0, [5, 6], subplots=True)\n"
   ]
  },
  {
   "cell_type": "markdown",
   "metadata": {},
   "source": [
    "Use names\n",
    "---------\n",
    "\n"
   ]
  },
  {
   "cell_type": "code",
   "execution_count": null,
   "metadata": {
    "collapsed": false
   },
   "outputs": [],
   "source": [
    "# Deprecated:\n",
    "plt.plotfile(fname, ('date', 'volume', 'adj_close'))\n",
    "\n",
    "# Use instead:\n",
    "msft.plot(\"Date\", [\"Volume\", \"Adj. Close*\"], subplots=True)\n"
   ]
  },
  {
   "cell_type": "markdown",
   "metadata": {},
   "source": [
    "Use semilogy for volume\n",
    "-----------------------\n",
    "\n"
   ]
  },
  {
   "cell_type": "code",
   "execution_count": null,
   "metadata": {
    "collapsed": false
   },
   "outputs": [],
   "source": [
    "# Deprecated:\n",
    "plt.plotfile(fname, ('date', 'volume', 'adj_close'),\n",
    "             plotfuncs={'volume': 'semilogy'})\n",
    "\n",
    "# Use instead:\n",
    "fig, axs = plt.subplots(2, sharex=True)\n",
    "msft.plot(\"Date\", \"Volume\", ax=axs[0], logy=True)\n",
    "msft.plot(\"Date\", \"Adj. Close*\", ax=axs[1])\n"
   ]
  },
  {
   "cell_type": "markdown",
   "metadata": {},
   "source": [
    "Use semilogy for volume (by index)\n",
    "----------------------------------\n",
    "\n"
   ]
  },
  {
   "cell_type": "code",
   "execution_count": null,
   "metadata": {
    "collapsed": false
   },
   "outputs": [],
   "source": [
    "# Deprecated:\n",
    "plt.plotfile(fname, (0, 5, 6), plotfuncs={5: 'semilogy'})\n",
    "\n",
    "# Use instead:\n",
    "fig, axs = plt.subplots(2, sharex=True)\n",
    "msft.plot(0, 5, ax=axs[0], logy=True)\n",
    "msft.plot(0, 6, ax=axs[1])\n"
   ]
  },
  {
   "cell_type": "markdown",
   "metadata": {},
   "source": [
    "Single subplot\n",
    "--------------\n",
    "\n"
   ]
  },
  {
   "cell_type": "code",
   "execution_count": null,
   "metadata": {
    "collapsed": false
   },
   "outputs": [],
   "source": [
    "# Deprecated:\n",
    "plt.plotfile(fname, ('date', 'open', 'high', 'low', 'close'), subplots=False)\n",
    "\n",
    "# Use instead:\n",
    "msft.plot(\"Date\", [\"Open\", \"High\", \"Low\", \"Close\"])\n"
   ]
  },
  {
   "cell_type": "markdown",
   "metadata": {},
   "source": [
    "Use bar for volume\n",
    "------------------\n",
    "\n"
   ]
  },
  {
   "cell_type": "code",
   "execution_count": null,
   "metadata": {
    "collapsed": false
   },
   "outputs": [],
   "source": [
    "# Deprecated:\n",
    "plt.plotfile(fname, (0, 5, 6), plotfuncs={5: \"bar\"})\n",
    "\n",
    "# Use instead:\n",
    "fig, axs = plt.subplots(2, sharex=True)\n",
    "axs[0].bar(msft.iloc[:, 0], msft.iloc[:, 5])\n",
    "axs[1].plot(msft.iloc[:, 0], msft.iloc[:, 6])\n",
    "fig.autofmt_xdate()\n"
   ]
  },
  {
   "cell_type": "markdown",
   "metadata": {},
   "source": [
    "Using numpy\n",
    "===========\n",
    "\n"
   ]
  },
  {
   "cell_type": "code",
   "execution_count": null,
   "metadata": {
    "collapsed": false
   },
   "outputs": [],
   "source": [
    "fname2 = cbook.get_sample_data('data_x_x2_x3.csv', asfileobj=False)\n",
    "with cbook.get_sample_data('data_x_x2_x3.csv') as file:\n",
    "    array = np.loadtxt(file)\n"
   ]
  },
  {
   "cell_type": "markdown",
   "metadata": {},
   "source": [
    "Labeling, if no names in csv-file\n",
    "---------------------------------\n",
    "\n"
   ]
  },
  {
   "cell_type": "code",
   "execution_count": null,
   "metadata": {
    "collapsed": false
   },
   "outputs": [],
   "source": [
    "# Deprecated:\n",
    "plt.plotfile(fname2, cols=(0, 1, 2), delimiter=' ',\n",
    "             names=['$x$', '$f(x)=x^2$', '$f(x)=x^3$'])\n",
    "\n",
    "# Use instead:\n",
    "fig, axs = plt.subplots(2, sharex=True)\n",
    "axs[0].plot(array[:, 0], array[:, 1])\n",
    "axs[0].set(ylabel='$f(x)=x^2$')\n",
    "axs[1].plot(array[:, 0], array[:, 2])\n",
    "axs[1].set(xlabel='$x$', ylabel='$f(x)=x^3$')\n"
   ]
  },
  {
   "cell_type": "markdown",
   "metadata": {},
   "source": [
    "More than one file per figure\n",
    "-----------------------------\n",
    "\n"
   ]
  },
  {
   "cell_type": "code",
   "execution_count": null,
   "metadata": {
    "collapsed": false
   },
   "outputs": [],
   "source": [
    "# For simplicity of the example we reuse the same file.\n",
    "# In general they will be different.\n",
    "fname3 = fname2\n",
    "\n",
    "# Depreacted:\n",
    "plt.plotfile(fname2, cols=(0, 1), delimiter=' ')\n",
    "plt.plotfile(fname3, cols=(0, 2), delimiter=' ',\n",
    "             newfig=False)  # use current figure\n",
    "plt.xlabel(r'$x$')\n",
    "plt.ylabel(r'$f(x) = x^2, x^3$')\n",
    "\n",
    "# Use instead:\n",
    "fig, ax = plt.subplots()\n",
    "ax.plot(array[:, 0], array[:, 1])\n",
    "ax.plot(array[:, 0], array[:, 2])\n",
    "ax.set(xlabel='$x$', ylabel='$f(x)=x^3$')\n",
    "\n",
    "plt.show()\n"
   ]
  },
  {
   "cell_type": "markdown",
   "metadata": {},
   "source": []
  }
 ],
 "metadata": {
  "kernelspec": {
   "display_name": "base",
   "language": "python",
   "name": "python3"
  },
  "language_info": {
   "codemirror_mode": {
    "name": "ipython",
    "version": 3
   },
   "file_extension": ".py",
   "mimetype": "text/x-python",
   "name": "python",
   "nbconvert_exporter": "python",
   "pygments_lexer": "ipython3",
   "version": "3.12.4"
  }
 },
 "nbformat": 4,
 "nbformat_minor": 0
}
